{
 "cells": [
  {
   "cell_type": "markdown",
   "metadata": {},
   "source": [
    "# Using Twitter api in Python"
   ]
  },
  {
   "cell_type": "markdown",
   "metadata": {},
   "source": [
    "Install python-twitter library using:\n",
    "    <pre>$ pip install python-twitter</pre>\n",
    "For more information checkout: https://github.com/bear/python-twitter"
   ]
  },
  {
   "cell_type": "code",
   "execution_count": 27,
   "metadata": {
    "collapsed": true
   },
   "outputs": [],
   "source": [
    "import twitter"
   ]
  },
  {
   "cell_type": "markdown",
   "metadata": {},
   "source": [
    "Go ahead and create an app on twitter, and collect consumer key, consumer secret, access token and access secret keys"
   ]
  },
  {
   "cell_type": "code",
   "execution_count": 28,
   "metadata": {
    "collapsed": true
   },
   "outputs": [],
   "source": [
    "twitter_consumer_key = \"<Your twitter consumer key>\"\n",
    "twitter_consumer_secret = \"<Your twitter consumer secret>\"\n",
    "access_token = \"<Your profile's access token>\"\n",
    "access_secret = \"<Your profile's access token secret>\""
   ]
  },
  {
   "cell_type": "markdown",
   "metadata": {},
   "source": [
    "Let's authenticate with twitter using our credentials."
   ]
  },
  {
   "cell_type": "code",
   "execution_count": 29,
   "metadata": {
    "collapsed": true
   },
   "outputs": [],
   "source": [
    "api = twitter.Api(consumer_key = twitter_consumer_key,\n",
    "                 consumer_secret = twitter_consumer_secret,\n",
    "                 access_token_key = access_token,\n",
    "                 access_token_secret = access_secret)"
   ]
  },
  {
   "cell_type": "markdown",
   "metadata": {},
   "source": [
    "Let's validate the authentication details"
   ]
  },
  {
   "cell_type": "code",
   "execution_count": 30,
   "metadata": {
    "collapsed": false
   },
   "outputs": [
    {
     "data": {
      "text/plain": [
       "<bound method Api.VerifyCredentials of <twitter.api.Api object at 0x7f23fb0f8c50>>"
      ]
     },
     "execution_count": 30,
     "metadata": {},
     "output_type": "execute_result"
    }
   ],
   "source": [
    "print(api.VerifyCredentials)"
   ]
  },
  {
   "cell_type": "code",
   "execution_count": 31,
   "metadata": {
    "collapsed": false
   },
   "outputs": [],
   "source": [
    "friends = api.GetFriends()\n",
    "print([u.name for u in friends]) # This will print out a list of all the friend's screen name in your twitter account"
   ]
  },
  {
   "cell_type": "code",
   "execution_count": 33,
   "metadata": {
    "collapsed": true
   },
   "outputs": [],
   "source": [
    "followers = api.GetFollowers() # To get the followers"
   ]
  },
  {
   "cell_type": "markdown",
   "metadata": {},
   "source": [
    "There are tons of other features that you can use, you can checkout more <a href=\"https://python-twitter.readthedocs.io/en/latest/twitter.html#module-twitter.api\" target=\"_blank\">here</a>\n"
   ]
  },
  {
   "cell_type": "markdown",
   "metadata": {},
   "source": [
    "Let's tweet something using our twitter account"
   ]
  },
  {
   "cell_type": "code",
   "execution_count": 32,
   "metadata": {
    "collapsed": false
   },
   "outputs": [],
   "source": [
    "message = api.PostUpdate(\"I posted this tweet using Python!!! See the code here: https://github.com/manishth/python_twitter\")"
   ]
  }
 ],
 "metadata": {
  "kernelspec": {
   "display_name": "Python 3",
   "language": "python",
   "name": "python3"
  },
  "language_info": {
   "codemirror_mode": {
    "name": "ipython",
    "version": 3
   },
   "file_extension": ".py",
   "mimetype": "text/x-python",
   "name": "python",
   "nbconvert_exporter": "python",
   "pygments_lexer": "ipython3",
   "version": "3.6.0"
  }
 },
 "nbformat": 4,
 "nbformat_minor": 2
}
