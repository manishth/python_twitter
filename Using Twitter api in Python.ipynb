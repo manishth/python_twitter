{
 "cells": [
  {
   "cell_type": "markdown",
   "metadata": {},
   "source": [
    "# Using Twitter api in Python"
   ]
  },
  {
   "cell_type": "markdown",
   "metadata": {},
   "source": [
    "Install python-twitter library using:\n",
    "    <pre>$ pip install python-twitter</pre>\n",
    "For more information checkout: https://github.com/bear/python-twitter"
   ]
  },
  {
   "cell_type": "code",
   "execution_count": 5,
   "metadata": {
    "collapsed": true
   },
   "outputs": [],
   "source": [
    "import twitter"
   ]
  },
  {
   "cell_type": "markdown",
   "metadata": {},
   "source": [
    "Go ahead and create an app on twitter, and collect consumer key, consumer secret, access token and access secret keys"
   ]
  },
  {
   "cell_type": "code",
   "execution_count": 6,
   "metadata": {
    "collapsed": true
   },
   "outputs": [],
   "source": [
    "twitter_consumer_key = \"<Your twitter consumer key>\"\n",
    "twitter_consumer_secret = \"<Your twitter consumer secret>\"\n",
    "access_token = \"<Your profile's access token>\"\n",
    "access_secret = \"<Your profile's access token secret>\""
   ]
  },
  {
   "cell_type": "markdown",
   "metadata": {},
   "source": [
    "Let's authenticate with twitter using our credentials."
   ]
  },
  {
   "cell_type": "code",
   "execution_count": 7,
   "metadata": {
    "collapsed": true
   },
   "outputs": [],
   "source": [
    "api = twitter.Api(consumer_key = twitter_consumer_key,\n",
    "                 consumer_secret = twitter_consumer_secret,\n",
    "                 access_token_key = access_token,\n",
    "                 access_token_secret = access_secret)"
   ]
  },
  {
   "cell_type": "markdown",
   "metadata": {},
   "source": [
    "Let's validate the authentication details"
   ]
  },
  {
   "cell_type": "code",
   "execution_count": 8,
   "metadata": {
    "collapsed": false
   },
   "outputs": [
    {
     "name": "stdout",
     "output_type": "stream",
     "text": [
      "<bound method Api.VerifyCredentials of <twitter.api.Api object at 0x7f2411760f98>>\n"
     ]
    }
   ],
   "source": [
    "print(api.VerifyCredentials)"
   ]
  },
  {
   "cell_type": "code",
   "execution_count": 18,
   "metadata": {
    "collapsed": false
   },
   "outputs": [
    {
     "name": "stdout",
     "output_type": "stream",
     "text": [
      "['ForecastWatch ☼ ☈', 'Python of the Day', 'Python Jobs', 'Josh Gordon', 'Dataquest', 'Vik Paruchuri', 'Django', 'PyCon India', 'Greg Alba', 'INC India', 'Ana Kasparian', 'Cenk Uygur', 'The Young Turks', 'YouTube India', 'Oculus', 'Google VR', 'Google India', 'Google', 'Dr Kumar Vishvas', 'Tarek Fatah', 'Arunabh Kumar', 'Charles Babb', 'Pope Francis', 'Ratan N. Tata', 'Satyamev Jayate', 'Jitendra kumar', 'Dalai Lama', 'Nidhi NEETU Bisht', 'Biswapati Sarkar', 'CVC, Govt. of India', 'jaynendra', 'DebottamRoyChowdhury', 'Nirjhar Poddar', 'Permanent Roommates', 'Nidhi Singh', 'Sumeet Vyas', 'Gwen Mayhem', 'Curiosity Rover', 'Hope Jaymes', 'ProgrammingWorld', 'Discovery', 'National Geographic', 'Neil deGrasse Tyson', 'Bill Maher', 'Rajnath Singh', 'Tom Hanks', 'Ian McKellen', 'ISRO', \"ISRO's Mars Orbiter\", 'NASA', 'Hubble', 'sundarpichai', 'Achara Kirk', 'Nawazuddin Siddiqui', 'Irrfan', 'Sunil Grover', \"Conan O'Brien\", 'THE NEWSHOUR', 'Python Software', 'Stephen Colbert', 'Barack Obama', 'Harsha Bhogle', 'Akshay Kumar', 'Shashi Tharoor', 'Manohar Parrikar', 'Amitabh Bachchan', 'Rachel Grate', 'yuvraj singh', 'Lata Mangeshkar', 'Virender Sehwag', 'KAPIL', 'Leonardo DiCaprio', 'Aamir Khan', 'Sourav Ganguly', 'Cricket Shots', 'Sushma Swaraj', 'Bear Grylls', 'ABP News', 'PMO India', 'S. Akeira', 'Jaby Koay', 'sachin tendulkar', 'Narendra Modi', 'Ministry of Railways', 'A.R.Rahman']\n"
     ]
    }
   ],
   "source": [
    "friends = api.GetFriends()\n",
    "print([u.name for u in friends])"
   ]
  },
  {
   "cell_type": "markdown",
   "metadata": {},
   "source": [
    "Let's tweet something using our twitter account"
   ]
  },
  {
   "cell_type": "code",
   "execution_count": 20,
   "metadata": {
    "collapsed": false
   },
   "outputs": [
    {
     "name": "stdout",
     "output_type": "stream",
     "text": [
      "{\"created_at\": \"Thu Apr 27 09:51:17 +0000 2017\", \"hashtags\": [], \"id\": 857532595042533377, \"id_str\": \"857532595042533377\", \"lang\": \"en\", \"source\": \"<a href=\\\"http://madebuyindia.com\\\" rel=\\\"nofollow\\\">MadeBuyIndia</a>\", \"text\": \"I posted this tweet using Python!!!\", \"urls\": [], \"user\": {\"created_at\": \"Fri Sep 21 08:46:48 +0000 2012\", \"description\": \"Proud Indian. Coder.\", \"favourites_count\": 126, \"followers_count\": 5, \"friends_count\": 85, \"id\": 837336980, \"lang\": \"en\", \"name\": \"Manish\", \"profile_background_color\": \"000000\", \"profile_background_image_url\": \"http://abs.twimg.com/images/themes/theme1/bg.png\", \"profile_banner_url\": \"https://pbs.twimg.com/profile_banners/837336980/1471973462\", \"profile_image_url\": \"http://pbs.twimg.com/profile_images/768473695471869952/vQS1viRV_normal.jpg\", \"profile_link_color\": \"333333\", \"profile_sidebar_fill_color\": \"000000\", \"profile_text_color\": \"000000\", \"screen_name\": \"im_manisht\", \"statuses_count\": 57, \"time_zone\": \"Pacific Time (US & Canada)\", \"utc_offset\": -25200}, \"user_mentions\": []}\n"
     ]
    }
   ],
   "source": [
    "message = api.PostUpdate(\"I posted this tweet using Python!!!\")"
   ]
  }
 ],
 "metadata": {
  "kernelspec": {
   "display_name": "Python 3",
   "language": "python",
   "name": "python3"
  },
  "language_info": {
   "codemirror_mode": {
    "name": "ipython",
    "version": 3
   },
   "file_extension": ".py",
   "mimetype": "text/x-python",
   "name": "python",
   "nbconvert_exporter": "python",
   "pygments_lexer": "ipython3",
   "version": "3.6.0"
  }
 },
 "nbformat": 4,
 "nbformat_minor": 2
}
